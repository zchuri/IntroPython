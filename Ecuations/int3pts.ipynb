{
 "cells": [
  {
   "cell_type": "code",
   "execution_count": 2,
   "metadata": {},
   "outputs": [],
   "source": [
    "\"\"\"\n",
    "Created on Tue Feb 19 16:13:56 2019\n",
    "\n",
    "Find polynomial base on the interpolation of three points:\n",
    "\n",
    "p(x) = ax^2 + bx + c\n",
    "\n",
    "\n",
    "@author: churi\n",
    "\"\"\"\n",
    "\n",
    "#import math\n",
    "import numpy as np\n",
    "import matplotlib.pyplot as plt\n"
   ]
  },
  {
   "cell_type": "code",
   "execution_count": 3,
   "metadata": {},
   "outputs": [
    {
     "data": {
      "image/png": "[encoded data removed]",
      "text/plain": [
       "<Figure size 432x288 with 1 Axes>"
      ]
     },
     "metadata": {
      "needs_background": "light"
     },
     "output_type": "display_data"
    }
   ],
   "source": [
    "x1,x2,x3 = 2, 4, 7\n",
    "y1,y2,y3 = 1, 5, 4\n",
    "\n",
    "\n",
    "# Find a, b, c\n",
    "a = (x1*(y3 - y2) + x2*(y1-y3) + x3*(y2-y1))/((x1-x2)*(x1-x3)*(x2-x3))\n",
    "\n",
    "b = ((y2 - y1)/(x2 - x1)) - a*(x1 + x2)\n",
    "\n",
    "c = y1 - a*x1**2 - b*x1\n",
    "\n",
    "# Generate range\n",
    "z1 = min((x1,x2,x3))\n",
    "z2 = max((x1,x2,x3))\n",
    "d = abs(z2 - z1)\n",
    "x = np.arange(z1 - 0.5*d, z2 + 0.5*d, 0.1)\n",
    "y = a*x**2 + b*x + c\n",
    "\n",
    "# Draw\n",
    "plt.plot(x,y, (x[0],x[len(x)-1]),(0,0))\n",
    "plt.plot((x1,x2,x3),(y1,y2,y3), \"ro\")\n",
    "plt.show()\n"
   ]
  }
 ],
 "metadata": {
  "kernelspec": {
   "display_name": "Python 3",
   "language": "python",
   "name": "python3"
  },
  "language_info": {
   "codemirror_mode": {
    "name": "ipython",
    "version": 3
   },
   "file_extension": ".py",
   "mimetype": "text/x-python",
   "name": "python",
   "nbconvert_exporter": "python",
   "pygments_lexer": "ipython3",
   "version": "3.7.1"
  }
 },
 "nbformat": 4,
 "nbformat_minor": 2
}
