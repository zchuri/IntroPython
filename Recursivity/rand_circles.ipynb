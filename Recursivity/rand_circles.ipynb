{
 "cells": [
  {
   "cell_type": "code",
   "execution_count": 1,
   "metadata": {},
   "outputs": [],
   "source": [
    "# Generate random circles"
   ]
  },
  {
   "cell_type": "code",
   "execution_count": 2,
   "metadata": {},
   "outputs": [
    {
     "name": "stdout",
     "output_type": "stream",
     "text": [
      "{'X': array([120., 120., 120., 120., 120., 120., 120., 120., 120., 120., 120.,\n",
      "       120., 120., 120., 120., 120., 120., 120., 120., 120., 120., 120.,\n",
      "       120., 119., 119., 119., 119., 119., 119., 119., 119., 119., 119.,\n",
      "       119., 119., 119., 119., 119., 119., 118., 118., 118., 118., 118.,\n",
      "       118., 118., 118., 118., 118., 118., 118., 117., 117., 117., 117.,\n",
      "       117., 117., 117., 117., 117., 117., 116., 116., 116., 116., 116.,\n",
      "       116., 116., 116., 115., 115., 115., 115., 115., 115., 115., 114.,\n",
      "       114., 114., 114., 114., 114., 114., 113., 113., 113., 113., 113.,\n",
      "       113., 113., 112., 112., 112., 112., 112., 112., 111., 111., 111.,\n",
      "       111., 111., 111., 110., 110., 110., 110., 110., 110., 109., 109.,\n",
      "       109., 109., 109., 109., 108., 108., 108., 108., 108., 107., 107.,\n",
      "       107., 107., 107., 106., 106., 106., 106., 106., 106., 105., 105.,\n",
      "       105., 105., 105., 104., 104., 104., 104., 104., 103., 103., 103.,\n",
      "       103., 103., 102., 102., 102., 102., 102., 101., 101., 101., 101.,\n",
      "       101., 100., 100., 100., 100., 100.,  99.,  99.,  99.,  99.,  99.,\n",
      "        98.,  98.,  98.,  98.,  98.,  97.,  97.,  97.,  97.,  97.,  96.,\n",
      "        96.,  96.,  96.,  96.,  95.,  95.,  95.,  95.,  95.,  94.,  94.,\n",
      "        94.,  94.,  94.,  94.,  93.,  93.,  93.,  93.,  93.,  92.,  92.,\n",
      "        92.,  92.,  92.,  91.,  91.,  91.,  91.,  91.,  91.,  90.,  90.,\n",
      "        90.,  90.,  90.,  90.,  89.,  89.,  89.,  89.,  89.,  89.,  88.,\n",
      "        88.,  88.,  88.,  88.,  88.,  87.,  87.,  87.,  87.,  87.,  87.,\n",
      "        87.,  86.,  86.,  86.,  86.,  86.,  86.,  86.,  85.,  85.,  85.,\n",
      "        85.,  85.,  85.,  85.,  84.,  84.,  84.,  84.,  84.,  84.,  84.,\n",
      "        84.,  84.,  83.,  83.,  83.,  83.,  83.,  83.,  83.,  83.,  83.,\n",
      "        82.,  82.,  82.,  82.,  82.,  82.,  82.,  82.,  82.,  82.,  82.,\n",
      "        82.,  81.,  81.,  81.,  81.,  81.,  81.,  81.,  81.,  81.,  81.,\n",
      "        81.,  81.,  81.,  81.,  81.,  81.,  80.,  80.,  80.,  80.,  80.,\n",
      "        80.,  80.,  80.,  80.,  80.,  80.,  80.,  80.,  80.,  80.,  80.,\n",
      "        80.,  80.,  80.,  80.,  80.,  80.,  80.,  80.,  80.,  80.,  80.,\n",
      "        80.,  80.,  80.,  80.,  80.,  80.,  80.,  80.,  80.,  80.,  80.,\n",
      "        80.,  80.,  80.,  80.,  80.,  80.,  80.,  81.,  81.,  81.,  81.,\n",
      "        81.,  81.,  81.,  81.,  81.,  81.,  81.,  81.,  81.,  81.,  81.,\n",
      "        81.,  81.,  82.,  82.,  82.,  82.,  82.,  82.,  82.,  82.,  82.,\n",
      "        82.,  82.,  83.,  83.,  83.,  83.,  83.,  83.,  83.,  83.,  83.,\n",
      "        83.,  84.,  84.,  84.,  84.,  84.,  84.,  84.,  84.,  85.,  85.,\n",
      "        85.,  85.,  85.,  85.,  85.,  85.,  86.,  86.,  86.,  86.,  86.,\n",
      "        86.,  86.,  87.,  87.,  87.,  87.,  87.,  87.,  88.,  88.,  88.,\n",
      "        88.,  88.,  88.,  89.,  89.,  89.,  89.,  89.,  89.,  90.,  90.,\n",
      "        90.,  90.,  90.,  90.,  91.,  91.,  91.,  91.,  91.,  91.,  92.,\n",
      "        92.,  92.,  92.,  92.,  93.,  93.,  93.,  93.,  93.,  93.,  94.,\n",
      "        94.,  94.,  94.,  94.,  95.,  95.,  95.,  95.,  95.,  96.,  96.,\n",
      "        96.,  96.,  96.,  97.,  97.,  97.,  97.,  97.,  98.,  98.,  98.,\n",
      "        98.,  98.,  99.,  99.,  99.,  99.,  99., 100., 100., 100., 100.,\n",
      "       100., 101., 101., 101., 101., 101., 102., 102., 102., 102., 102.,\n",
      "       103., 103., 103., 103., 103., 104., 104., 104., 104., 104., 105.,\n",
      "       105., 105., 105., 105., 105., 106., 106., 106., 106., 106., 107.,\n",
      "       107., 107., 107., 107., 108., 108., 108., 108., 108., 108., 109.,\n",
      "       109., 109., 109., 109., 110., 110., 110., 110., 110., 110., 111.,\n",
      "       111., 111., 111., 111., 111., 112., 112., 112., 112., 112., 112.,\n",
      "       113., 113., 113., 113., 113., 113., 113., 114., 114., 114., 114.,\n",
      "       114., 114., 114., 115., 115., 115., 115., 115., 115., 115., 116.,\n",
      "       116., 116., 116., 116., 116., 116., 116., 116., 117., 117., 117.,\n",
      "       117., 117., 117., 117., 117., 117., 118., 118., 118., 118., 118.,\n",
      "       118., 118., 118., 118., 118., 118., 118., 119., 119., 119., 119.,\n",
      "       119., 119., 119., 119., 119., 119., 119., 119., 119., 119., 119.,\n",
      "       119., 120., 120., 120., 120., 120., 120., 120., 120., 120., 120.,\n",
      "       120., 120., 120., 120., 120., 120., 120., 120., 120., 120., 120.,\n",
      "       120., 120.]), 'Y': array([200., 200., 200., 201., 201., 201., 201., 201., 202., 202., 202.,\n",
      "       202., 202., 203., 203., 203., 203., 203., 204., 204., 204., 204.,\n",
      "       204., 205., 205., 205., 205., 205., 206., 206., 206., 206., 206.,\n",
      "       206., 207., 207., 207., 207., 207., 208., 208., 208., 208., 208.,\n",
      "       209., 209., 209., 209., 209., 209., 210., 210., 210., 210., 210.,\n",
      "       210., 211., 211., 211., 211., 211., 211., 212., 212., 212., 212.,\n",
      "       212., 212., 213., 213., 213., 213., 213., 213., 213., 214., 214.,\n",
      "       214., 214., 214., 214., 214., 215., 215., 215., 215., 215., 215.,\n",
      "       215., 216., 216., 216., 216., 216., 216., 216., 216., 216., 217.,\n",
      "       217., 217., 217., 217., 217., 217., 217., 217., 218., 218., 218.,\n",
      "       218., 218., 218., 218., 218., 218., 218., 218., 218., 219., 219.,\n",
      "       219., 219., 219., 219., 219., 219., 219., 219., 219., 219., 219.,\n",
      "       219., 219., 219., 220., 220., 220., 220., 220., 220., 220., 220.,\n",
      "       220., 220., 220., 220., 220., 220., 220., 220., 220., 220., 220.,\n",
      "       220., 220., 220., 220., 220., 220., 220., 220., 220., 220., 220.,\n",
      "       220., 220., 220., 220., 220., 220., 220., 220., 220., 220., 220.,\n",
      "       220., 220., 220., 220., 219., 219., 219., 219., 219., 219., 219.,\n",
      "       219., 219., 219., 219., 219., 219., 219., 219., 219., 219., 218.,\n",
      "       218., 218., 218., 218., 218., 218., 218., 218., 218., 218., 217.,\n",
      "       217., 217., 217., 217., 217., 217., 217., 217., 217., 216., 216.,\n",
      "       216., 216., 216., 216., 216., 216., 215., 215., 215., 215., 215.,\n",
      "       215., 215., 215., 214., 214., 214., 214., 214., 214., 214., 213.,\n",
      "       213., 213., 213., 213., 213., 212., 212., 212., 212., 212., 212.,\n",
      "       211., 211., 211., 211., 211., 211., 210., 210., 210., 210., 210.,\n",
      "       210., 209., 209., 209., 209., 209., 209., 208., 208., 208., 208.,\n",
      "       208., 207., 207., 207., 207., 207., 207., 206., 206., 206., 206.,\n",
      "       206., 205., 205., 205., 205., 205., 204., 204., 204., 204., 204.,\n",
      "       203., 203., 203., 203., 203., 202., 202., 202., 202., 202., 201.,\n",
      "       201., 201., 201., 201., 200., 200., 200., 200., 200., 199., 199.,\n",
      "       199., 199., 199., 198., 198., 198., 198., 198., 197., 197., 197.,\n",
      "       197., 197., 196., 196., 196., 196., 196., 195., 195., 195., 195.,\n",
      "       195., 195., 194., 194., 194., 194., 194., 193., 193., 193., 193.,\n",
      "       193., 192., 192., 192., 192., 192., 192., 191., 191., 191., 191.,\n",
      "       191., 190., 190., 190., 190., 190., 190., 189., 189., 189., 189.,\n",
      "       189., 189., 188., 188., 188., 188., 188., 188., 187., 187., 187.,\n",
      "       187., 187., 187., 187., 186., 186., 186., 186., 186., 186., 186.,\n",
      "       185., 185., 185., 185., 185., 185., 185., 184., 184., 184., 184.,\n",
      "       184., 184., 184., 184., 184., 183., 183., 183., 183., 183., 183.,\n",
      "       183., 183., 183., 182., 182., 182., 182., 182., 182., 182., 182.,\n",
      "       182., 182., 182., 182., 181., 181., 181., 181., 181., 181., 181.,\n",
      "       181., 181., 181., 181., 181., 181., 181., 181., 181., 180., 180.,\n",
      "       180., 180., 180., 180., 180., 180., 180., 180., 180., 180., 180.,\n",
      "       180., 180., 180., 180., 180., 180., 180., 180., 180., 180., 180.,\n",
      "       180., 180., 180., 180., 180., 180., 180., 180., 180., 180., 180.,\n",
      "       180., 180., 180., 180., 180., 180., 180., 180., 180., 180., 181.,\n",
      "       181., 181., 181., 181., 181., 181., 181., 181., 181., 181., 181.,\n",
      "       181., 181., 181., 181., 181., 182., 182., 182., 182., 182., 182.,\n",
      "       182., 182., 182., 182., 182., 183., 183., 183., 183., 183., 183.,\n",
      "       183., 183., 183., 183., 184., 184., 184., 184., 184., 184., 184.,\n",
      "       184., 185., 185., 185., 185., 185., 185., 185., 185., 186., 186.,\n",
      "       186., 186., 186., 186., 186., 187., 187., 187., 187., 187., 187.,\n",
      "       188., 188., 188., 188., 188., 188., 188., 189., 189., 189., 189.,\n",
      "       189., 189., 190., 190., 190., 190., 190., 191., 191., 191., 191.,\n",
      "       191., 191., 192., 192., 192., 192., 192., 193., 193., 193., 193.,\n",
      "       193., 193., 194., 194., 194., 194., 194., 195., 195., 195., 195.,\n",
      "       195., 196., 196., 196., 196., 196., 197., 197., 197., 197., 197.,\n",
      "       198., 198., 198., 198., 198., 199., 199., 199., 199., 199., 200.,\n",
      "       200., 200.])}\n"
     ]
    }
   ],
   "source": [
    "# Draw circles\n",
    "# Clear workspace\n",
    "%reset -f\n",
    "\n",
    "import matplotlib.pyplot as plt\n",
    "import numpy as np\n",
    "\n",
    "def circulo(x, y, r):\n",
    "    teta = np.arange(0, 2*np.pi, 0.01)\n",
    "    X = np.round(x + r*np.cos(teta))\n",
    "    Y = np.round(y + r*np.sin(teta))\n",
    "    return {\"X\": X, \"Y\": Y}\n",
    "\n",
    "res = circulo(100,200,20)\n",
    "print(res)\n"
   ]
  },
  {
   "cell_type": "code",
   "execution_count": 3,
   "metadata": {},
   "outputs": [
    {
     "data": {
      "text/plain": [
       "<matplotlib.image.AxesImage at 0xaab36b0c>"
      ]
     },
     "execution_count": 3,
     "metadata": {},
     "output_type": "execute_result"
    },
    {
     "data": {
      "image/png": "[encoded data removed]",
      "text/plain": [
       "<Figure size 432x288 with 1 Axes>"
      ]
     },
     "metadata": {
      "needs_background": "light"
     },
     "output_type": "display_data"
    }
   ],
   "source": [
    "# Draw in empty image\n",
    "npix = 256\n",
    "img = np.zeros([npix, npix])\n",
    "\n",
    "ix = res[\"X\"]\n",
    "iy = res[\"Y\"]\n",
    "\n",
    "nx = len(ix)\n",
    "\n",
    "for i in range(nx):\n",
    "    if ix[i] >= 1 and ix[i] <= 255 and iy[i] >= 1 and iy[i] <= 255:\n",
    "        img[int(ix[i]),int(iy[i])] = 255\n",
    "\n",
    "plt.imshow(img, cmap=\"gray\")\n",
    "\n"
   ]
  },
  {
   "cell_type": "code",
   "execution_count": 4,
   "metadata": {},
   "outputs": [
    {
     "data": {
      "text/plain": [
       "<matplotlib.image.AxesImage at 0xaaa2b94c>"
      ]
     },
     "execution_count": 4,
     "metadata": {},
     "output_type": "execute_result"
    },
    {
     "data": {
      "image/png": "[encoded data removed]",
      "text/plain": [
       "<Figure size 432x288 with 1 Axes>"
      ]
     },
     "metadata": {
      "needs_background": "light"
     },
     "output_type": "display_data"
    }
   ],
   "source": [
    "# Generate random centers\n",
    "rn = 10\n",
    "xc = np.random.choice(npix, rn)\n",
    "yc = np.random.choice(npix, rn)\n",
    "rc = np.random.choice(20, rn)\n",
    "\n",
    "for i in range(rn):\n",
    "    res = circulo(xc[i], yc[i], rc[i])\n",
    "    ix = res[\"X\"]\n",
    "    iy = res[\"Y\"]\n",
    "    nx = len(ix)\n",
    "    for i in range(nx):\n",
    "        if ix[i] >= 1 and ix[i] <= 255 and iy[i] >= 1 and iy[i] <= 255:\n",
    "            img[int(ix[i]),int(iy[i])] = 255\n",
    "\n",
    "plt.imshow(img, cmap=\"gray\")"
   ]
  },
  {
   "cell_type": "code",
   "execution_count": null,
   "metadata": {},
   "outputs": [],
   "source": []
  }
 ],
 "metadata": {
  "kernelspec": {
   "display_name": "Python 3",
   "language": "python",
   "name": "python3"
  },
  "language_info": {
   "codemirror_mode": {
    "name": "ipython",
    "version": 3
   },
   "file_extension": ".py",
   "mimetype": "text/x-python",
   "name": "python",
   "nbconvert_exporter": "python",
   "pygments_lexer": "ipython3",
   "version": "3.7.1"
  }
 },
 "nbformat": 4,
 "nbformat_minor": 2
}
