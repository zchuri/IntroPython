{
 "cells": [
  {
   "cell_type": "code",
   "execution_count": 1,
   "metadata": {},
   "outputs": [
    {
     "name": "stdout",
     "output_type": "stream",
     "text": [
      "   Time         x         y\n",
      "0   0.0  0.000000  1.000000\n",
      "1   0.1  0.099833  0.995004\n",
      "2   0.2  0.198669  0.980067\n",
      "3   0.3  0.295520  0.955336\n",
      "4   0.4  0.389418  0.921061\n",
      "---------------------\n",
      "0    0.0\n",
      "1    0.1\n",
      "2    0.2\n",
      "3    0.3\n",
      "4    0.4\n",
      "Name: Time, dtype: float64\n",
      "---------------------\n",
      "0    0.0\n",
      "1    0.1\n",
      "2    0.2\n",
      "3    0.3\n",
      "4    0.4\n",
      "Name: Time, dtype: float64\n",
      "---------------------\n",
      "   Time         y\n",
      "4   0.4  0.921061\n",
      "5   0.5  0.877583\n",
      "6   0.6  0.825336\n",
      "7   0.7  0.764842\n",
      "8   0.8  0.696707\n",
      "9   0.9  0.621610\n",
      "---------------------\n",
      "   Time         x         y\n",
      "4   0.4  0.389418  0.921061\n",
      "5   0.5  0.479426  0.877583\n",
      "6   0.6  0.564642  0.825336\n",
      "7   0.7  0.644218  0.764842\n",
      "8   0.8  0.717356  0.696707\n",
      "9   0.9  0.783327  0.621610\n",
      "---------------------\n",
      "   Time         x         y\n",
      "4   0.4  0.389418  0.921061\n",
      "5   0.5  0.479426  0.877583\n",
      "6   0.6  0.564642  0.825336\n",
      "7   0.7  0.644218  0.764842\n",
      "8   0.8  0.717356  0.696707\n",
      "9   0.9  0.783327  0.621610\n",
      "---------------------\n",
      "   Time         y\n",
      "4   0.4  0.921061\n",
      "5   0.5  0.877583\n",
      "6   0.6  0.825336\n",
      "7   0.7  0.764842\n",
      "8   0.8  0.696707\n",
      "9   0.9  0.621610\n"
     ]
    }
   ],
   "source": [
    "# Clase 8 - Data Frames\n",
    "\n",
    "# Import modules\n",
    "import numpy as np\n",
    "import math\n",
    "import pandas as pd\n",
    "\n",
    "# Initial variables\n",
    "t = np.arange(0, 5*math.pi, 0.1)\n",
    "x = np.sin(t)\n",
    "y = np.cos(t)\n",
    "\n",
    "# Create data frame\n",
    "df = pd.DataFrame({\"Time\": t, \"x\": x, \"y\": y})\n",
    "\n",
    "# Print cases\n",
    "print(df.head())\n",
    "print(\"---------------------\")\n",
    "print(df.Time.head())\n",
    "print(\"---------------------\")\n",
    "print(df[\"Time\"].head())\n",
    "print(\"---------------------\")\n",
    "print(df[[\"Time\", \"y\"]][4:10])\n",
    "print(\"---------------------\")\n",
    "print(df[4:10])\n",
    "print(\"---------------------\")\n",
    "print(df[4:10])\n",
    "print(\"---------------------\")\n",
    "print(df.iloc[4:10, [0,2]])\n"
   ]
  },
  {
   "cell_type": "code",
   "execution_count": 3,
   "metadata": {},
   "outputs": [
    {
     "name": "stdout",
     "output_type": "stream",
     "text": [
      "  Sex  TV\n",
      "0   f   5\n",
      "1   f   2\n",
      "2   m   4\n",
      "3   m   3\n",
      "4   f   4\n",
      "       TV                                               \n",
      "    count      mean       std  min   25%  50%   75%  max\n",
      "Sex                                                     \n",
      "f     3.0  3.666667  1.527525  2.0  3.00  4.0  4.50  5.0\n",
      "m     2.0  3.500000  0.707107  3.0  3.25  3.5  3.75  4.0\n"
     ]
    },
    {
     "data": {
      "image/png": "[encoded data removed]",
      "text/plain": [
       "<Figure size 432x288 with 2 Axes>"
      ]
     },
     "metadata": {
      "needs_background": "light"
     },
     "output_type": "display_data"
    },
    {
     "name": "stdout",
     "output_type": "stream",
     "text": [
      "  Sex  TV\n",
      "0   f   5\n",
      "1   f   2\n",
      "4   f   4\n",
      "[['f' 5]\n",
      " ['f' 2]\n",
      " ['f' 4]]\n"
     ]
    }
   ],
   "source": [
    "# Visualizate data frame\n",
    "import matplotlib.pyplot as plt\n",
    "# Initial parameters\n",
    "data = pd.DataFrame({\"Sex\": [\"f\", \"f\", \"m\", \"m\", \"f\"], \"TV\": [5, 2, 4, 3, 4]})\n",
    "print(data)\n",
    "# Group data\n",
    "grupo = data.groupby(\"Sex\")\n",
    "print(grupo.describe())\n",
    "# Boxplot\n",
    "grupo.boxplot()\n",
    "plt.show()\n",
    "# Extract specific group\n",
    "data_f = grupo.get_group(\"f\")\n",
    "print(data_f)\n",
    "data_fv = grupo.get_group(\"f\").values\n",
    "type(data_fv)\n",
    "print(data_fv)\n"
   ]
  },
  {
   "cell_type": "code",
   "execution_count": 5,
   "metadata": {},
   "outputs": [
    {
     "name": "stdout",
     "output_type": "stream",
     "text": [
      "                            OLS Regression Results                            \n",
      "==============================================================================\n",
      "Dep. Variable:                      y   R-squared:                       0.994\n",
      "Model:                            OLS   Adj. R-squared:                  0.994\n",
      "Method:                 Least Squares   F-statistic:                 1.771e+04\n",
      "Date:                Tue, 09 Apr 2019   Prob (F-statistic):          1.56e-112\n",
      "Time:                        16:49:43   Log-Likelihood:                -149.08\n",
      "No. Observations:                 100   AIC:                             302.2\n",
      "Df Residuals:                      98   BIC:                             307.4\n",
      "Df Model:                           1                                         \n",
      "Covariance Type:            nonrobust                                         \n",
      "==============================================================================\n",
      "                 coef    std err          t      P>|t|      [0.025      0.975]\n",
      "------------------------------------------------------------------------------\n",
      "Intercept    -20.0447      0.215    -93.031      0.000     -20.472     -19.617\n",
      "x              0.5004      0.004    133.089      0.000       0.493       0.508\n",
      "==============================================================================\n",
      "Omnibus:                        1.329   Durbin-Watson:                   2.138\n",
      "Prob(Omnibus):                  0.514   Jarque-Bera (JB):                1.403\n",
      "Skew:                           0.235   Prob(JB):                        0.496\n",
      "Kurtosis:                       2.660   Cond. No.                         114.\n",
      "==============================================================================\n",
      "\n",
      "Warnings:\n",
      "[1] Standard Errors assume that the covariance matrix of the errors is correctly specified.\n"
     ]
    }
   ],
   "source": [
    "# Statistics\n",
    "import statsmodels.formula.api as sm\n",
    "\n",
    "# Generate a noisy line data frame\n",
    "x = np.arange(100)\n",
    "y = 0.5*x - 20 + np.random.randn(len(x))\n",
    "df = pd.DataFrame({\"x\": x, \"y\": y})\n",
    "\n",
    "# Fit a linear model\n",
    "modelo = sm.ols(\"y~x\", data = df).fit()\n",
    "print(modelo.summary())"
   ]
  },
  {
   "cell_type": "code",
   "execution_count": 6,
   "metadata": {},
   "outputs": [
    {
     "name": "stderr",
     "output_type": "stream",
     "text": [
      "/home/churi/anaconda3/lib/python3.7/site-packages/scipy/stats/stats.py:1713: FutureWarning: Using a non-tuple sequence for multidimensional indexing is deprecated; use `arr[tuple(seq)]` instead of `arr[seq]`. In the future this will be interpreted as an array index, `arr[np.array(seq)]`, which will result either in an error or a different result.\n",
      "  return np.add.reduce(sorted[indexer] * weights, axis=axis) / sumval\n"
     ]
    },
    {
     "data": {
      "image/png": "[encoded data removed]",
      "text/plain": [
       "<Figure size 432x288 with 1 Axes>"
      ]
     },
     "metadata": {
      "needs_background": "light"
     },
     "output_type": "display_data"
    }
   ],
   "source": [
    "# Scatter plot\n",
    "import seaborn as sns\n",
    "\n",
    "# Initial parameters\n",
    "x = np.linspace(1, 7, 50)\n",
    "y = 3 + 2*x + 1.5*np.random.randn(len(x))\n",
    "df = pd.DataFrame({\"x\": x, \"y\": y})\n",
    "# Scatter plot with fitted line\n",
    "sns.regplot(\"x\", \"y\", data = df)\n",
    "plt.show()\n"
   ]
  },
  {
   "cell_type": "code",
   "execution_count": 7,
   "metadata": {},
   "outputs": [
    {
     "data": {
      "image/png": "[encoded data removed]",
      "text/plain": [
       "<Figure size 432x288 with 1 Axes>"
      ]
     },
     "metadata": {
      "needs_background": "light"
     },
     "output_type": "display_data"
    }
   ],
   "source": [
    "# Increase dispersion in order to appreciate the confidence interval\n",
    "y = 3 + 2*x + 5*np.random.randn(len(x))\n",
    "df = pd.DataFrame({\"x\": x, \"y\": y})\n",
    "# Scatter plot with fitted line\n",
    "sns.regplot(\"x\", \"y\", data = df)\n",
    "plt.show()\n"
   ]
  },
  {
   "cell_type": "code",
   "execution_count": 9,
   "metadata": {},
   "outputs": [
    {
     "name": "stdout",
     "output_type": "stream",
     "text": [
      "[[  1.  50. 150.]\n",
      " [  1.  65. 180.]\n",
      " [  1.  45. 155.]\n",
      " [  2.  80. 160.]\n",
      " [  2.  90. 180.]\n",
      " [  2. 110. 177.]]\n"
     ]
    }
   ],
   "source": [
    "# Load data\n",
    "datos = np.loadtxt(\"data.txt\", delimiter=\",\")\n",
    "print(datos)"
   ]
  },
  {
   "cell_type": "code",
   "execution_count": 10,
   "metadata": {},
   "outputs": [
    {
     "name": "stdout",
     "output_type": "stream",
     "text": [
      "   Grupo  Peso  Altura\n",
      "0      1    50     150\n",
      "1      1    65     180\n",
      "2      1    45     155\n",
      "3      2    80     160\n",
      "4      2    90     180\n",
      "5      2   110     177\n"
     ]
    }
   ],
   "source": [
    "# Labelled data\n",
    "datos = pd.read_csv(\"lab_data.txt\")\n",
    "print(datos)"
   ]
  },
  {
   "cell_type": "code",
   "execution_count": 11,
   "metadata": {},
   "outputs": [
    {
     "data": {
      "image/png": "[encoded data removed]",
      "text/plain": [
       "<Figure size 432x288 with 1 Axes>"
      ]
     },
     "metadata": {
      "needs_background": "light"
     },
     "output_type": "display_data"
    }
   ],
   "source": [
    "# Plots\n",
    "import scipy.stats as stats\n",
    "\n",
    "# Generate data\n",
    "x = 3*np.random.randn(500) + np.linspace(1,10,500)\n",
    "\n",
    "# Plot\n",
    "plt.plot(x, \".\")\n",
    "plt.show()\n"
   ]
  },
  {
   "cell_type": "code",
   "execution_count": 12,
   "metadata": {},
   "outputs": [
    {
     "data": {
      "image/png": "[encoded data removed]",
      "text/plain": [
       "<Figure size 432x288 with 1 Axes>"
      ]
     },
     "metadata": {
      "needs_background": "light"
     },
     "output_type": "display_data"
    }
   ],
   "source": [
    "# Histogram\n",
    "plt.hist(x, bins=25)\n",
    "plt.show()\n"
   ]
  },
  {
   "cell_type": "code",
   "execution_count": 14,
   "metadata": {},
   "outputs": [
    {
     "data": {
      "image/png": "[encoded data removed]",
      "text/plain": [
       "<Figure size 432x288 with 1 Axes>"
      ]
     },
     "metadata": {
      "needs_background": "light"
     },
     "output_type": "display_data"
    }
   ],
   "source": [
    "# Cumulative frequencies\n",
    "plt.plot(stats.cumfreq(x,10)[0])\n",
    "plt.show()"
   ]
  },
  {
   "cell_type": "code",
   "execution_count": 15,
   "metadata": {},
   "outputs": [
    {
     "data": {
      "image/png": "[encoded data removed]",
      "text/plain": [
       "<Figure size 432x288 with 1 Axes>"
      ]
     },
     "metadata": {
      "needs_background": "light"
     },
     "output_type": "display_data"
    }
   ],
   "source": [
    "# Grouped plots\n",
    "df = pd.DataFrame(np.random.rand(10,3), columns = [\"a\", \"b\", \"c\"])\n",
    "# Bar plot\n",
    "df.plot(kind=\"bar\", grid=False)\n",
    "plt.show()"
   ]
  },
  {
   "cell_type": "code",
   "execution_count": null,
   "metadata": {},
   "outputs": [],
   "source": []
  }
 ],
 "metadata": {
  "kernelspec": {
   "display_name": "Python 3",
   "language": "python",
   "name": "python3"
  },
  "language_info": {
   "codemirror_mode": {
    "name": "ipython",
    "version": 3
   },
   "file_extension": ".py",
   "mimetype": "text/x-python",
   "name": "python",
   "nbconvert_exporter": "python",
   "pygments_lexer": "ipython3",
   "version": "3.7.1"
  }
 },
 "nbformat": 4,
 "nbformat_minor": 2
}
