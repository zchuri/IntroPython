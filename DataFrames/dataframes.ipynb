{
 "cells": [
  {
   "cell_type": "code",
   "execution_count": 1,
   "metadata": {},
   "outputs": [
    {
     "name": "stdout",
     "output_type": "stream",
     "text": [
      "   Time         x         y\n",
      "0   0.0  0.000000  1.000000\n",
      "1   0.1  0.099833  0.995004\n",
      "2   0.2  0.198669  0.980067\n",
      "3   0.3  0.295520  0.955336\n",
      "4   0.4  0.389418  0.921061\n",
      "---------------------\n",
      "0    0.0\n",
      "1    0.1\n",
      "2    0.2\n",
      "3    0.3\n",
      "4    0.4\n",
      "Name: Time, dtype: float64\n",
      "---------------------\n",
      "0    0.0\n",
      "1    0.1\n",
      "2    0.2\n",
      "3    0.3\n",
      "4    0.4\n",
      "Name: Time, dtype: float64\n",
      "---------------------\n",
      "   Time         y\n",
      "4   0.4  0.921061\n",
      "5   0.5  0.877583\n",
      "6   0.6  0.825336\n",
      "7   0.7  0.764842\n",
      "8   0.8  0.696707\n",
      "9   0.9  0.621610\n",
      "---------------------\n",
      "   Time         x         y\n",
      "4   0.4  0.389418  0.921061\n",
      "5   0.5  0.479426  0.877583\n",
      "6   0.6  0.564642  0.825336\n",
      "7   0.7  0.644218  0.764842\n",
      "8   0.8  0.717356  0.696707\n",
      "9   0.9  0.783327  0.621610\n",
      "---------------------\n",
      "   Time         x         y\n",
      "4   0.4  0.389418  0.921061\n",
      "5   0.5  0.479426  0.877583\n",
      "6   0.6  0.564642  0.825336\n",
      "7   0.7  0.644218  0.764842\n",
      "8   0.8  0.717356  0.696707\n",
      "9   0.9  0.783327  0.621610\n",
      "---------------------\n",
      "   Time         y\n",
      "4   0.4  0.921061\n",
      "5   0.5  0.877583\n",
      "6   0.6  0.825336\n",
      "7   0.7  0.764842\n",
      "8   0.8  0.696707\n",
      "9   0.9  0.621610\n"
     ]
    }
   ],
   "source": [
    "# Clase 8 - Data Frames\n",
    "\n",
    "# Import modules\n",
    "import numpy as np\n",
    "import math\n",
    "import pandas as pd\n",
    "\n",
    "# Initial variables\n",
    "t = np.arange(0, 5*math.pi, 0.1)\n",
    "x = np.sin(t)\n",
    "y = np.cos(t)\n",
    "\n",
    "# Create data frame\n",
    "df = pd.DataFrame({\"Time\": t, \"x\": x, \"y\": y})\n",
    "\n",
    "# Print cases\n",
    "print(df.head())\n",
    "print(\"---------------------\")\n",
    "print(df.Time.head())\n",
    "print(\"---------------------\")\n",
    "print(df[\"Time\"].head())\n",
    "print(\"---------------------\")\n",
    "print(df[[\"Time\", \"y\"]][4:10])\n",
    "print(\"---------------------\")\n",
    "print(df[4:10])\n",
    "print(\"---------------------\")\n",
    "print(df[4:10])\n",
    "print(\"---------------------\")\n",
    "print(df.iloc[4:10, [0,2]])\n"
   ]
  },
  {
   "cell_type": "code",
   "execution_count": 3,
   "metadata": {},
   "outputs": [
    {
     "name": "stdout",
     "output_type": "stream",
     "text": [
      "  Sex  TV\n",
      "0   f   5\n",
      "1   f   2\n",
      "2   m   4\n",
      "3   m   3\n",
      "4   f   4\n",
      "       TV                                               \n",
      "    count      mean       std  min   25%  50%   75%  max\n",
      "Sex                                                     \n",
      "f     3.0  3.666667  1.527525  2.0  3.00  4.0  4.50  5.0\n",
      "m     2.0  3.500000  0.707107  3.0  3.25  3.5  3.75  4.0\n"
     ]
    },
    {
     "data": {
      "image/png": "[encoded data removed]",
      "text/plain": [
       "<Figure size 432x288 with 2 Axes>"
      ]
     },
     "metadata": {
      "needs_background": "light"
     },
     "output_type": "display_data"
    },
    {
     "name": "stdout",
     "output_type": "stream",
     "text": [
      "  Sex  TV\n",
      "0   f   5\n",
      "1   f   2\n",
      "4   f   4\n",
      "[['f' 5]\n",
      " ['f' 2]\n",
      " ['f' 4]]\n"
     ]
    }
   ],
   "source": [
    "# Visualizate data frame\n",
    "import matplotlib.pyplot as plt\n",
    "# Initial parameters\n",
    "data = pd.DataFrame({\"Sex\": [\"f\", \"f\", \"m\", \"m\", \"f\"], \"TV\": [5, 2, 4, 3, 4]})\n",
    "print(data)\n",
    "# Group data\n",
    "grupo = data.groupby(\"Sex\")\n",
    "print(grupo.describe())\n",
    "# Boxplot\n",
    "grupo.boxplot()\n",
    "plt.show()\n",
    "# Extract specific group\n",
    "data_f = grupo.get_group(\"f\")\n",
    "print(data_f)\n",
    "data_fv = grupo.get_group(\"f\").values\n",
    "type(data_fv)\n",
    "print(data_fv)\n"
   ]
  },
  {
   "cell_type": "code",
   "execution_count": null,
   "metadata": {},
   "outputs": [],
   "source": []
  }
 ],
 "metadata": {
  "kernelspec": {
   "display_name": "Python 3",
   "language": "python",
   "name": "python3"
  },
  "language_info": {
   "codemirror_mode": {
    "name": "ipython",
    "version": 3
   },
   "file_extension": ".py",
   "mimetype": "text/x-python",
   "name": "python",
   "nbconvert_exporter": "python",
   "pygments_lexer": "ipython3",
   "version": "3.7.1"
  }
 },
 "nbformat": 4,
 "nbformat_minor": 2
}
